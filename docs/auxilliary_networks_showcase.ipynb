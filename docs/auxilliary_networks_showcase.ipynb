{
 "cells": [
  {
   "cell_type": "markdown",
   "metadata": {},
   "source": [
    "---\n",
    "title: Auxilliary Networks Showcase\n",
    "subtitle: Fitting shapes using NIGnets powered by Auxilliary Networks\n",
    "date: 2025-03-02\n",
    "---"
   ]
  },
  {
   "cell_type": "markdown",
   "metadata": {},
   "source": [
    "We now fit Injective Networks powered by Auxilliary Networks to some target shapes to get a sense of\n",
    "their representation power and shortcomings."
   ]
  },
  {
   "cell_type": "code",
   "execution_count": 1,
   "metadata": {},
   "outputs": [],
   "source": [
    "# Basic imports\n",
    "import torch\n",
    "from torch import nn\n",
    "import geosimilarity as gs\n",
    "from NIGnets import NIGnet\n",
    "from NIGnets.monotonic_nets import SmoothMinMaxNet\n",
    "\n",
    "from assets.utils import automate_training, plot_curves"
   ]
  },
  {
   "cell_type": "markdown",
   "metadata": {},
   "source": [
    "## Pre-Auxilliary Networks"
   ]
  }
 ],
 "metadata": {
  "kernelspec": {
   "display_name": "Python 3",
   "language": "python",
   "name": "python3"
  },
  "language_info": {
   "codemirror_mode": {
    "name": "ipython",
    "version": 3
   },
   "file_extension": ".py",
   "mimetype": "text/x-python",
   "name": "python",
   "nbconvert_exporter": "python",
   "pygments_lexer": "ipython3",
   "version": "3.10.0"
  }
 },
 "nbformat": 4,
 "nbformat_minor": 2
}
