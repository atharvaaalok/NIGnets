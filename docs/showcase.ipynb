{
 "cells": [
  {
   "cell_type": "markdown",
   "metadata": {},
   "source": [
    "---\n",
    "title: NIGnets Showcase\n",
    "subtitle: Fitting shapes using NIGnets at Full Power\n",
    "date: 2025-03-02\n",
    "---"
   ]
  },
  {
   "cell_type": "markdown",
   "metadata": {},
   "source": [
    "We now fit NIGnets at full power to target shapes. That is, Injective Networks powered by Auxilliary\n",
    "Networks and Monotonic Networks with all boosters on (skip connections!)."
   ]
  },
  {
   "cell_type": "code",
   "execution_count": 1,
   "metadata": {},
   "outputs": [],
   "source": [
    "# Basic imports\n",
    "import torch\n",
    "from torch import nn\n",
    "import geosimilarity as gs\n",
    "from NIGnets import NIGnet\n",
    "from NIGnets.monotonic_nets import SmoothMinMaxNet\n",
    "\n",
    "from assets.utils import automate_training, plot_curves"
   ]
  },
  {
   "cell_type": "markdown",
   "metadata": {},
   "source": [
    "We will use the following network architecture for PreAux nets in this showcase."
   ]
  },
  {
   "cell_type": "code",
   "execution_count": 2,
   "metadata": {},
   "outputs": [],
   "source": [
    "class PreAuxNet(nn.Module):\n",
    "    def __init__(self, layer_count, hidden_dim):\n",
    "        super().__init__()\n",
    "\n",
    "        # Pre-Auxilliary net needs closed transform to get same r at theta = 0, 2pi\n",
    "        self.closed_transform = lambda t: torch.hstack([\n",
    "            torch.cos(2 * torch.pi * t),\n",
    "            torch.sin(2 * torch.pi * t)\n",
    "        ])\n",
    "\n",
    "        layers = [nn.Linear(2, hidden_dim), nn.BatchNorm1d(hidden_dim), nn.PReLU()]\n",
    "        for i in range(layer_count):\n",
    "            layers.append(nn.Linear(hidden_dim, hidden_dim))\n",
    "            layers.append(nn.BatchNorm1d(hidden_dim))\n",
    "            layers.append(nn.PReLU())\n",
    "        layers.append(nn.Linear(hidden_dim, 1))\n",
    "        layers.append(nn.ReLU())\n",
    "\n",
    "        self.forward_stack = nn.Sequential(*layers)\n",
    "    \n",
    "    def forward(self, t):\n",
    "        unit_circle = self.closed_transform(t) # Rows are cos(theta), sin(theta)\n",
    "        r = self.forward_stack(unit_circle)\n",
    "        x = r * unit_circle # Each row is now r*cos(theta), r*sin(theta)\n",
    "        return x"
   ]
  }
 ],
 "metadata": {
  "kernelspec": {
   "display_name": "Python 3",
   "language": "python",
   "name": "python3"
  },
  "language_info": {
   "codemirror_mode": {
    "name": "ipython",
    "version": 3
   },
   "file_extension": ".py",
   "mimetype": "text/x-python",
   "name": "python",
   "nbconvert_exporter": "python",
   "pygments_lexer": "ipython3",
   "version": "3.10.0"
  }
 },
 "nbformat": 4,
 "nbformat_minor": 2
}
