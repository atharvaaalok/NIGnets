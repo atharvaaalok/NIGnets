{
 "cells": [
  {
   "cell_type": "markdown",
   "metadata": {},
   "source": [
    "---\n",
    "title: Motivation for Non-Self-Intersecting Geometry\n",
    "subtitle: An Introduction to Simple Closed Curves\n",
    "date: 2025-02-25\n",
    "---"
   ]
  },
  {
   "cell_type": "markdown",
   "metadata": {},
   "source": [
    "# Introduction\n",
    "Shape optimization is the study of designing shapes that minimize or maximize some quantity of\n",
    "interest. An example would be designing the wing of an airplane that maximizes the lift-to-drag\n",
    "ratio. A typical shape optimization process loop consists of three steps:\n",
    "::::{grid} 1 1 2 3\n",
    "\n",
    ":::{card}\n",
    ":header: 1. Shape Representation\n",
    "Using a parameterization method to represent the shape. The parameters $\\phi$ are the design\n",
    "variables. E.g. splines with their control points as parameters.\n",
    ":::\n",
    "\n",
    ":::{card}\n",
    ":header: 2. Shape Evaluation\n",
    "Evaluating some characteristic of the shape that is to be minimized or maximized. E.g. lift-to-drag\n",
    "ratio of a wing.\n",
    ":::\n",
    "\n",
    ":::{card}\n",
    ":header: 3. Shape Improvement\n",
    "Changing the parameters $\\phi$ to design shapes that achieve better characteristics. E.g. gradient\n",
    "descent to optimize $\\phi$.\n",
    ":::\n",
    "::::\n",
    "\n",
    "**We will focus on shape representation.**"
   ]
  }
 ],
 "metadata": {
  "kernelspec": {
   "display_name": "Python 3",
   "language": "python",
   "name": "python3"
  },
  "language_info": {
   "name": "python",
   "version": "3.10.0"
  }
 },
 "nbformat": 4,
 "nbformat_minor": 2
}
