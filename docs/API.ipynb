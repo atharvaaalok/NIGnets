{
 "cells": [
  {
   "cell_type": "markdown",
   "metadata": {},
   "source": [
    "---\n",
    "title: API Reference\n",
    "subtitle: A Gentle Introduction to NIGnets API\n",
    "date: 2025-03-01\n",
    "---"
   ]
  }
 ],
 "metadata": {
  "language_info": {
   "name": "python"
  }
 },
 "nbformat": 4,
 "nbformat_minor": 2
}
