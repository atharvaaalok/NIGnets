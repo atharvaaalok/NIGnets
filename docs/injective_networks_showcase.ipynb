{
 "cells": [
  {
   "cell_type": "markdown",
   "metadata": {},
   "source": [
    "---\n",
    "title: Injective Networks Showcase\n",
    "subtitle: Fitting shapes using Injective Networks\n",
    "date: 2025-02-26\n",
    "---"
   ]
  },
  {
   "cell_type": "markdown",
   "metadata": {},
   "source": [
    "We now fit Injective Networks to some target shapes to get a sense of their representation power and\n",
    "shortcomings."
   ]
  },
  {
   "cell_type": "code",
   "execution_count": 1,
   "metadata": {},
   "outputs": [],
   "source": [
    "# Basic imports\n",
    "import torch\n",
    "from torch import nn\n",
    "import geosimilarity as gs\n",
    "\n",
    "from assets.utils import automate_training, plot_curves"
   ]
  },
  {
   "cell_type": "markdown",
   "metadata": {},
   "source": [
    "We will now start using the [NIGnets](https://github.com/atharvaaalok/NIGnets) package for creating\n",
    "networks instead of defining them again and again with additional features."
   ]
  },
  {
   "cell_type": "markdown",
   "metadata": {},
   "source": [
    "# Intersection Possible\n",
    "We now fit Injective Networks to target curves when there are no additional constraints on the\n",
    "network weight matrices and therefore, non-invertibility of weight matrices is possible during\n",
    "optimization."
   ]
  },
  {
   "cell_type": "markdown",
   "metadata": {},
   "source": [
    "## Circle and Square"
   ]
  },
  {
   "cell_type": "markdown",
   "metadata": {},
   "source": [
    "## Stanford Bunny"
   ]
  },
  {
   "cell_type": "markdown",
   "metadata": {},
   "source": [
    "# Intersection Impossible\n",
    "We now fit Injective Networks to target curves when we first perform a matrix exponential of the\n",
    "weight matrices and then use them for the linear transformations. Therefore, non-invertibility of\n",
    "weight matrices is impossible during optimization."
   ]
  },
  {
   "cell_type": "markdown",
   "metadata": {},
   "source": [
    "## Circle and Square"
   ]
  },
  {
   "cell_type": "markdown",
   "metadata": {},
   "source": [
    "## Stanford Bunny"
   ]
  }
 ],
 "metadata": {
  "kernelspec": {
   "display_name": "Python 3",
   "language": "python",
   "name": "python3"
  },
  "language_info": {
   "codemirror_mode": {
    "name": "ipython",
    "version": 3
   },
   "file_extension": ".py",
   "mimetype": "text/x-python",
   "name": "python",
   "nbconvert_exporter": "python",
   "pygments_lexer": "ipython3",
   "version": "3.10.0"
  }
 },
 "nbformat": 4,
 "nbformat_minor": 2
}
