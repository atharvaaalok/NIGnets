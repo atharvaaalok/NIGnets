{
 "cells": [
  {
   "cell_type": "markdown",
   "metadata": {},
   "source": [
    "---\n",
    "title: NIGnets\n",
    "subtitle: An Introduction to the Library\n",
    "subject: NIGnets Tutorial\n",
    "date: 2025-03-01\n",
    "---"
   ]
  },
  {
   "cell_type": "markdown",
   "metadata": {},
   "source": [
    "# NIGnets\n",
    ":::{image} assets/logos/logo_with_text_outside.svg\n",
    ":height: 280px\n",
    ":alt: NIGnets logo with text on the outside.\n",
    ":::\n",
    "\n",
    "NIGnets is a library for creating Neural Injective Geometry. Neural Injective Geometry is a method\n",
    "of geometry parameterization that has non-self-intersection as an in-built constraint. It is created\n",
    "through a specifically designed neural architecture. NIGnets is written in PyTorch and is therefore\n",
    "fully differentiable and can be used in shape optimization procedures.\n",
    "\n",
    "These tutorials are meant to serve as documentation for the API and also give an indepth account of\n",
    "[NIGnets](https://github.com/atharvaaalok/NIGnets) as a concept by itself.\n",
    "\n",
    "::::{grid} 2\n",
    "\n",
    ":::{card}\n",
    ":header: API documentation 💻\n",
    ":link: API.ipynb\n",
    "Take me directly to the API!\n",
    ":::\n",
    "\n",
    ":::{card}\n",
    ":header: NIGnets architecture 📄\n",
    ":link: introduction.ipynb\n",
    "I want to learn about Neural Injective Geometry!\n",
    ":::\n",
    "\n",
    "Follow along!"
   ]
  }
 ],
 "metadata": {
  "language_info": {
   "name": "python"
  }
 },
 "nbformat": 4,
 "nbformat_minor": 2
}
